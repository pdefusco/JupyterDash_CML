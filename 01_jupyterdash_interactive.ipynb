{
 "cells": [
  {
   "cell_type": "markdown",
   "id": "539e7779-160e-43c9-93a4-4b3144eeb462",
   "metadata": {},
   "source": [
    "### Interactive Visualizations with Pandas and JupyterDash"
   ]
  },
  {
   "cell_type": "markdown",
   "id": "53e446b7-c51b-496a-9675-dfcef38ec94d",
   "metadata": {},
   "source": [
    "#### Install Requirements"
   ]
  },
  {
   "cell_type": "code",
   "execution_count": 1,
   "id": "6856388b-a620-44b2-af99-2660a465a717",
   "metadata": {},
   "outputs": [
    {
     "name": "stdout",
     "output_type": "stream",
     "text": [
      "Requirement already satisfied: jupyter-dash==0.4.2 in ./.local/lib/python3.7/site-packages (from -r requirements.txt (line 1)) (0.4.2)\n",
      "Requirement already satisfied: pandas==1.3.4 in ./.local/lib/python3.7/site-packages (from -r requirements.txt (line 2)) (1.3.4)\n",
      "Requirement already satisfied: flask in ./.local/lib/python3.7/site-packages (from jupyter-dash==0.4.2->-r requirements.txt (line 1)) (2.2.2)\n",
      "Requirement already satisfied: retrying in ./.local/lib/python3.7/site-packages (from jupyter-dash==0.4.2->-r requirements.txt (line 1)) (1.3.3)\n",
      "Requirement already satisfied: ipython in /usr/local/lib/python3.7/site-packages (from jupyter-dash==0.4.2->-r requirements.txt (line 1)) (7.31.1)\n",
      "Requirement already satisfied: ansi2html in ./.local/lib/python3.7/site-packages (from jupyter-dash==0.4.2->-r requirements.txt (line 1)) (1.8.0)\n",
      "Requirement already satisfied: ipykernel in /usr/local/lib/python3.7/site-packages (from jupyter-dash==0.4.2->-r requirements.txt (line 1)) (6.5.0)\n",
      "Requirement already satisfied: dash in ./.local/lib/python3.7/site-packages (from jupyter-dash==0.4.2->-r requirements.txt (line 1)) (2.6.2)\n",
      "Requirement already satisfied: nest-asyncio in /usr/local/lib/python3.7/site-packages (from jupyter-dash==0.4.2->-r requirements.txt (line 1)) (1.5.5)\n",
      "Requirement already satisfied: requests in /runtime-addons/cmladdon-python-2.0.30-b114/opt/cmladdons/python/site-packages (from jupyter-dash==0.4.2->-r requirements.txt (line 1)) (2.27.1)\n",
      "Requirement already satisfied: pytz>=2017.3 in /runtime-addons/cmladdon-python-2.0.30-b114/opt/cmladdons/python/site-packages (from pandas==1.3.4->-r requirements.txt (line 2)) (2022.1)\n",
      "Requirement already satisfied: numpy>=1.17.3 in /usr/local/lib/python3.7/site-packages (from pandas==1.3.4->-r requirements.txt (line 2)) (1.19.4)\n",
      "Requirement already satisfied: python-dateutil>=2.7.3 in /runtime-addons/cmladdon-python-2.0.30-b114/opt/cmladdons/python/site-packages (from pandas==1.3.4->-r requirements.txt (line 2)) (2.8.2)\n",
      "Requirement already satisfied: six>=1.5 in /runtime-addons/cmladdon-python-2.0.30-b114/opt/cmladdons/python/site-packages (from python-dateutil>=2.7.3->pandas==1.3.4->-r requirements.txt (line 2)) (1.16.0)\n",
      "Requirement already satisfied: importlib-metadata in /runtime-addons/cmladdon-python-2.0.30-b114/opt/cmladdons/python/site-packages (from ansi2html->jupyter-dash==0.4.2->-r requirements.txt (line 1)) (4.8.3)\n",
      "Requirement already satisfied: dash-html-components==2.0.0 in ./.local/lib/python3.7/site-packages (from dash->jupyter-dash==0.4.2->-r requirements.txt (line 1)) (2.0.0)\n",
      "Requirement already satisfied: dash-table==5.0.0 in ./.local/lib/python3.7/site-packages (from dash->jupyter-dash==0.4.2->-r requirements.txt (line 1)) (5.0.0)\n",
      "Requirement already satisfied: plotly>=5.0.0 in ./.local/lib/python3.7/site-packages (from dash->jupyter-dash==0.4.2->-r requirements.txt (line 1)) (5.10.0)\n",
      "Requirement already satisfied: dash-core-components==2.0.0 in ./.local/lib/python3.7/site-packages (from dash->jupyter-dash==0.4.2->-r requirements.txt (line 1)) (2.0.0)\n",
      "Requirement already satisfied: flask-compress in ./.local/lib/python3.7/site-packages (from dash->jupyter-dash==0.4.2->-r requirements.txt (line 1)) (1.13)\n",
      "Requirement already satisfied: Jinja2>=3.0 in /usr/local/lib/python3.7/site-packages (from flask->jupyter-dash==0.4.2->-r requirements.txt (line 1)) (3.1.1)\n",
      "Requirement already satisfied: itsdangerous>=2.0 in ./.local/lib/python3.7/site-packages (from flask->jupyter-dash==0.4.2->-r requirements.txt (line 1)) (2.1.2)\n",
      "Requirement already satisfied: Werkzeug>=2.2.2 in ./.local/lib/python3.7/site-packages (from flask->jupyter-dash==0.4.2->-r requirements.txt (line 1)) (2.2.2)\n",
      "Requirement already satisfied: click>=8.0 in /runtime-addons/cmladdon-python-2.0.30-b114/opt/cmladdons/python/site-packages (from flask->jupyter-dash==0.4.2->-r requirements.txt (line 1)) (8.0.4)\n",
      "Requirement already satisfied: zipp>=0.5 in /runtime-addons/cmladdon-python-2.0.30-b114/opt/cmladdons/python/site-packages (from importlib-metadata->ansi2html->jupyter-dash==0.4.2->-r requirements.txt (line 1)) (3.6.0)\n",
      "Requirement already satisfied: typing-extensions>=3.6.4 in /runtime-addons/cmladdon-python-2.0.30-b114/opt/cmladdons/python/site-packages (from importlib-metadata->ansi2html->jupyter-dash==0.4.2->-r requirements.txt (line 1)) (4.1.1)\n",
      "Requirement already satisfied: MarkupSafe>=2.0 in /usr/local/lib/python3.7/site-packages (from Jinja2>=3.0->flask->jupyter-dash==0.4.2->-r requirements.txt (line 1)) (2.1.1)\n",
      "Requirement already satisfied: tenacity>=6.2.0 in ./.local/lib/python3.7/site-packages (from plotly>=5.0.0->dash->jupyter-dash==0.4.2->-r requirements.txt (line 1)) (8.1.0)\n",
      "Requirement already satisfied: brotli in ./.local/lib/python3.7/site-packages (from flask-compress->dash->jupyter-dash==0.4.2->-r requirements.txt (line 1)) (1.0.9)\n",
      "Requirement already satisfied: matplotlib-inline<0.2.0,>=0.1.0 in /usr/local/lib/python3.7/site-packages (from ipykernel->jupyter-dash==0.4.2->-r requirements.txt (line 1)) (0.1.3)\n",
      "Requirement already satisfied: debugpy<2.0,>=1.0.0 in /usr/local/lib/python3.7/site-packages (from ipykernel->jupyter-dash==0.4.2->-r requirements.txt (line 1)) (1.6.0)\n",
      "Requirement already satisfied: traitlets<6.0,>=5.1.0 in /usr/local/lib/python3.7/site-packages (from ipykernel->jupyter-dash==0.4.2->-r requirements.txt (line 1)) (5.1.1)\n",
      "Requirement already satisfied: argcomplete>=1.12.3 in /usr/local/lib/python3.7/site-packages (from ipykernel->jupyter-dash==0.4.2->-r requirements.txt (line 1)) (2.0.0)\n",
      "Requirement already satisfied: tornado<7.0,>=4.2 in /usr/local/lib/python3.7/site-packages (from ipykernel->jupyter-dash==0.4.2->-r requirements.txt (line 1)) (6.1)\n",
      "Requirement already satisfied: jupyter-client<8.0 in /usr/local/lib/python3.7/site-packages (from ipykernel->jupyter-dash==0.4.2->-r requirements.txt (line 1)) (7.2.2)\n",
      "Requirement already satisfied: decorator in /usr/local/lib/python3.7/site-packages (from ipython->jupyter-dash==0.4.2->-r requirements.txt (line 1)) (4.4.2)\n",
      "Requirement already satisfied: setuptools>=18.5 in /usr/local/lib/python3.7/site-packages (from ipython->jupyter-dash==0.4.2->-r requirements.txt (line 1)) (47.1.0)\n",
      "Requirement already satisfied: prompt-toolkit!=3.0.0,!=3.0.1,<3.1.0,>=2.0.0 in /usr/local/lib/python3.7/site-packages (from ipython->jupyter-dash==0.4.2->-r requirements.txt (line 1)) (3.0.8)\n",
      "Requirement already satisfied: pickleshare in /usr/local/lib/python3.7/site-packages (from ipython->jupyter-dash==0.4.2->-r requirements.txt (line 1)) (0.7.5)\n",
      "Requirement already satisfied: backcall in /usr/local/lib/python3.7/site-packages (from ipython->jupyter-dash==0.4.2->-r requirements.txt (line 1)) (0.2.0)\n",
      "Requirement already satisfied: pexpect>4.3 in /usr/local/lib/python3.7/site-packages (from ipython->jupyter-dash==0.4.2->-r requirements.txt (line 1)) (4.8.0)\n",
      "Requirement already satisfied: pygments in /usr/local/lib/python3.7/site-packages (from ipython->jupyter-dash==0.4.2->-r requirements.txt (line 1)) (2.8.1)\n",
      "Requirement already satisfied: jedi>=0.16 in /usr/local/lib/python3.7/site-packages (from ipython->jupyter-dash==0.4.2->-r requirements.txt (line 1)) (0.17.2)\n",
      "Requirement already satisfied: parso<0.8.0,>=0.7.0 in /usr/local/lib/python3.7/site-packages (from jedi>=0.16->ipython->jupyter-dash==0.4.2->-r requirements.txt (line 1)) (0.7.1)\n",
      "Requirement already satisfied: jupyter-core>=4.9.2 in /usr/local/lib/python3.7/site-packages (from jupyter-client<8.0->ipykernel->jupyter-dash==0.4.2->-r requirements.txt (line 1)) (4.9.2)\n",
      "Requirement already satisfied: pyzmq>=22.3 in /usr/local/lib/python3.7/site-packages (from jupyter-client<8.0->ipykernel->jupyter-dash==0.4.2->-r requirements.txt (line 1)) (22.3.0)\n",
      "Requirement already satisfied: entrypoints in /runtime-addons/cmladdon-python-2.0.30-b114/opt/cmladdons/python/site-packages (from jupyter-client<8.0->ipykernel->jupyter-dash==0.4.2->-r requirements.txt (line 1)) (0.4)\n",
      "Requirement already satisfied: ptyprocess>=0.5 in /usr/local/lib/python3.7/site-packages (from pexpect>4.3->ipython->jupyter-dash==0.4.2->-r requirements.txt (line 1)) (0.6.0)\n",
      "Requirement already satisfied: wcwidth in /usr/local/lib/python3.7/site-packages (from prompt-toolkit!=3.0.0,!=3.0.1,<3.1.0,>=2.0.0->ipython->jupyter-dash==0.4.2->-r requirements.txt (line 1)) (0.2.5)\n",
      "Requirement already satisfied: charset-normalizer~=2.0.0 in /runtime-addons/cmladdon-python-2.0.30-b114/opt/cmladdons/python/site-packages (from requests->jupyter-dash==0.4.2->-r requirements.txt (line 1)) (2.0.12)\n",
      "Requirement already satisfied: certifi>=2017.4.17 in /runtime-addons/cmladdon-python-2.0.30-b114/opt/cmladdons/python/site-packages (from requests->jupyter-dash==0.4.2->-r requirements.txt (line 1)) (2022.5.18.1)\n",
      "Requirement already satisfied: urllib3<1.27,>=1.21.1 in /runtime-addons/cmladdon-python-2.0.30-b114/opt/cmladdons/python/site-packages (from requests->jupyter-dash==0.4.2->-r requirements.txt (line 1)) (1.26.9)\n",
      "Requirement already satisfied: idna<4,>=2.5 in /runtime-addons/cmladdon-python-2.0.30-b114/opt/cmladdons/python/site-packages (from requests->jupyter-dash==0.4.2->-r requirements.txt (line 1)) (3.3)\n"
     ]
    }
   ],
   "source": [
    "!pip3 install -r requirements.txt"
   ]
  },
  {
   "cell_type": "markdown",
   "id": "3db5a86a-4b73-4788-951b-b6837d256ec1",
   "metadata": {},
   "source": [
    "#### Import Python Libraries"
   ]
  },
  {
   "cell_type": "code",
   "execution_count": 2,
   "id": "d0d58be8-4c63-4ab8-89a0-cb997aada363",
   "metadata": {},
   "outputs": [],
   "source": [
    "from jupyter_dash import JupyterDash"
   ]
  },
  {
   "cell_type": "code",
   "execution_count": 3,
   "id": "8d4d7039-ad10-4e3c-8fed-36c8c9964565",
   "metadata": {},
   "outputs": [],
   "source": [
    "import dash\n",
    "from dash import dcc\n",
    "from dash import html\n",
    "import pandas as pd\n",
    "import os"
   ]
  },
  {
   "cell_type": "markdown",
   "id": "1714ebb2-e81d-46e8-80b9-5b94b7b895b9",
   "metadata": {},
   "source": [
    "#### Read Dataframe from Plotly Example Gallery"
   ]
  },
  {
   "cell_type": "code",
   "execution_count": 42,
   "id": "ffad1541-277b-436c-86af-01264b6009ca",
   "metadata": {},
   "outputs": [],
   "source": [
    "df = pd.read_csv('https://plotly.github.io/datasets/country_indicators.csv')\n",
    "available_indicators = df['Indicator Name'].unique()"
   ]
  },
  {
   "cell_type": "code",
   "execution_count": 9,
   "id": "cc3ac14b-fd1f-496a-9fa9-8f2ee4f6ca38",
   "metadata": {},
   "outputs": [
    {
     "data": {
      "text/html": [
       "<div>\n",
       "<style scoped>\n",
       "    .dataframe tbody tr th:only-of-type {\n",
       "        vertical-align: middle;\n",
       "    }\n",
       "\n",
       "    .dataframe tbody tr th {\n",
       "        vertical-align: top;\n",
       "    }\n",
       "\n",
       "    .dataframe thead th {\n",
       "        text-align: right;\n",
       "    }\n",
       "</style>\n",
       "<table border=\"1\" class=\"dataframe\">\n",
       "  <thead>\n",
       "    <tr style=\"text-align: right;\">\n",
       "      <th></th>\n",
       "      <th>Country Name</th>\n",
       "      <th>Indicator Name</th>\n",
       "      <th>Year</th>\n",
       "      <th>Value</th>\n",
       "    </tr>\n",
       "  </thead>\n",
       "  <tbody>\n",
       "    <tr>\n",
       "      <th>0</th>\n",
       "      <td>Arab World</td>\n",
       "      <td>Agriculture, value added (% of GDP)</td>\n",
       "      <td>1962</td>\n",
       "      <td>NaN</td>\n",
       "    </tr>\n",
       "    <tr>\n",
       "      <th>1</th>\n",
       "      <td>Arab World</td>\n",
       "      <td>CO2 emissions (metric tons per capita)</td>\n",
       "      <td>1962</td>\n",
       "      <td>0.760996</td>\n",
       "    </tr>\n",
       "    <tr>\n",
       "      <th>2</th>\n",
       "      <td>Arab World</td>\n",
       "      <td>Domestic credit provided by financial sector (...</td>\n",
       "      <td>1962</td>\n",
       "      <td>18.168690</td>\n",
       "    </tr>\n",
       "    <tr>\n",
       "      <th>3</th>\n",
       "      <td>Arab World</td>\n",
       "      <td>Electric power consumption (kWh per capita)</td>\n",
       "      <td>1962</td>\n",
       "      <td>NaN</td>\n",
       "    </tr>\n",
       "    <tr>\n",
       "      <th>4</th>\n",
       "      <td>Arab World</td>\n",
       "      <td>Energy use (kg of oil equivalent per capita)</td>\n",
       "      <td>1962</td>\n",
       "      <td>NaN</td>\n",
       "    </tr>\n",
       "  </tbody>\n",
       "</table>\n",
       "</div>"
      ],
      "text/plain": [
       "  Country Name                                     Indicator Name  Year  \\\n",
       "0   Arab World                Agriculture, value added (% of GDP)  1962   \n",
       "1   Arab World             CO2 emissions (metric tons per capita)  1962   \n",
       "2   Arab World  Domestic credit provided by financial sector (...  1962   \n",
       "3   Arab World        Electric power consumption (kWh per capita)  1962   \n",
       "4   Arab World       Energy use (kg of oil equivalent per capita)  1962   \n",
       "\n",
       "       Value  \n",
       "0        NaN  \n",
       "1   0.760996  \n",
       "2  18.168690  \n",
       "3        NaN  \n",
       "4        NaN  "
      ]
     },
     "execution_count": 9,
     "metadata": {},
     "output_type": "execute_result"
    }
   ],
   "source": [
    "df.head()"
   ]
  },
  {
   "cell_type": "markdown",
   "id": "89b074c8-50fa-4443-8f9f-bae6f4580e7d",
   "metadata": {},
   "source": [
    "#### Create a Dash Visual Application"
   ]
  },
  {
   "cell_type": "code",
   "execution_count": 5,
   "id": "88111e82-3daa-461e-ade6-6e2787121ebd",
   "metadata": {},
   "outputs": [],
   "source": [
    "external_stylesheets = ['https://codepen.io/chriddyp/pen/bWLwgP.css']\n",
    "\n",
    "app = JupyterDash(__name__, external_stylesheets=external_stylesheets)\n",
    "\n",
    "# Create server variable with Flask server object for use with gunicorn\n",
    "server = app.server\n",
    "\n",
    "app.layout = html.Div([\n",
    "    html.Div([\n",
    "\n",
    "        html.Div([\n",
    "            dcc.Dropdown(\n",
    "                id='crossfilter-xaxis-column',\n",
    "                options=[{'label': i, 'value': i} for i in available_indicators],\n",
    "                value='Fertility rate, total (births per woman)'\n",
    "            ),\n",
    "            dcc.RadioItems(\n",
    "                id='crossfilter-xaxis-type',\n",
    "                options=[{'label': i, 'value': i} for i in ['Linear', 'Log']],\n",
    "                value='Linear',\n",
    "                labelStyle={'display': 'inline-block'}\n",
    "            )\n",
    "        ],\n",
    "        style={'width': '49%', 'display': 'inline-block'}),\n",
    "\n",
    "        html.Div([\n",
    "            dcc.Dropdown(\n",
    "                id='crossfilter-yaxis-column',\n",
    "                options=[{'label': i, 'value': i} for i in available_indicators],\n",
    "                value='Life expectancy at birth, total (years)'\n",
    "            ),\n",
    "            dcc.RadioItems(\n",
    "                id='crossfilter-yaxis-type',\n",
    "                options=[{'label': i, 'value': i} for i in ['Linear', 'Log']],\n",
    "                value='Linear',\n",
    "                labelStyle={'display': 'inline-block'}\n",
    "            )\n",
    "        ], style={'width': '49%', 'float': 'right', 'display': 'inline-block'})\n",
    "    ], style={\n",
    "        'borderBottom': 'thin lightgrey solid',\n",
    "        'backgroundColor': 'rgb(250, 250, 250)',\n",
    "        'padding': '10px 5px'\n",
    "    }),\n",
    "    \n",
    "    html.Div([\n",
    "        dcc.Graph(\n",
    "            id='crossfilter-indicator-scatter',\n",
    "            hoverData={'points': [{'customdata': 'Japan'}]}\n",
    "        )\n",
    "    ], style={'width': '49%', 'display': 'inline-block', 'padding': '0 20'}),\n",
    "    html.Div([\n",
    "        dcc.Graph(id='x-time-series'),\n",
    "        dcc.Graph(id='y-time-series'),\n",
    "    ], style={'display': 'inline-block', 'width': '49%'}),\n",
    "\n",
    "    html.Div(dcc.Slider(\n",
    "        id='crossfilter-year--slider',\n",
    "        min=df['Year'].min(),\n",
    "        max=df['Year'].max(),\n",
    "        value=df['Year'].max(),\n",
    "        marks={str(year): str(year) for year in df['Year'].unique()},\n",
    "        step=None\n",
    "    ), style={'width': '49%', 'padding': '0px 20px 20px 20px'})\n",
    "])\n",
    "\n",
    "@app.callback(\n",
    "    dash.dependencies.Output('crossfilter-indicator-scatter', 'figure'),\n",
    "    [dash.dependencies.Input('crossfilter-xaxis-column', 'value'),\n",
    "     dash.dependencies.Input('crossfilter-yaxis-column', 'value'),\n",
    "     dash.dependencies.Input('crossfilter-xaxis-type', 'value'),\n",
    "     dash.dependencies.Input('crossfilter-yaxis-type', 'value'),\n",
    "     dash.dependencies.Input('crossfilter-year--slider', 'value')])\n",
    "def update_graph(xaxis_column_name, yaxis_column_name,\n",
    "                 xaxis_type, yaxis_type,\n",
    "                 year_value):\n",
    "    dff = df[df['Year'] == year_value]\n",
    "\n",
    "    return {\n",
    "        'data': [dict(\n",
    "            x=dff[dff['Indicator Name'] == xaxis_column_name]['Value'],\n",
    "            y=dff[dff['Indicator Name'] == yaxis_column_name]['Value'],\n",
    "            text=dff[dff['Indicator Name'] == yaxis_column_name]['Country Name'],\n",
    "            customdata=dff[dff['Indicator Name'] == yaxis_column_name]['Country Name'],\n",
    "            mode='markers',\n",
    "            marker={\n",
    "                'size': 25,\n",
    "                'opacity': 0.7,\n",
    "                'color': 'orange',\n",
    "                'line': {'width': 2, 'color': 'purple'}\n",
    "            }\n",
    "        )],\n",
    "        'layout': dict(\n",
    "            xaxis={\n",
    "                'title': xaxis_column_name,\n",
    "                'type': 'linear' if xaxis_type == 'Linear' else 'log'\n",
    "            },\n",
    "            yaxis={\n",
    "                'title': yaxis_column_name,\n",
    "                'type': 'linear' if yaxis_type == 'Linear' else 'log'\n",
    "            },\n",
    "            margin={'l': 40, 'b': 30, 't': 10, 'r': 0},\n",
    "            height=450,\n",
    "            hovermode='closest'\n",
    "        )\n",
    "    }\n",
    "\n",
    "def create_time_series(dff, axis_type, title):\n",
    "    return {\n",
    "        'data': [dict(\n",
    "            x=dff['Year'],\n",
    "            y=dff['Value'],\n",
    "            mode='lines+markers'\n",
    "        )],\n",
    "        'layout': {\n",
    "            'height': 225,\n",
    "            'margin': {'l': 20, 'b': 30, 'r': 10, 't': 10},\n",
    "            'annotations': [{\n",
    "                'x': 0, 'y': 0.85, 'xanchor': 'left', 'yanchor': 'bottom',\n",
    "                'xref': 'paper', 'yref': 'paper', 'showarrow': False,\n",
    "                'align': 'left', 'bgcolor': 'rgba(255, 255, 255, 0.5)',\n",
    "                'text': title\n",
    "            }],\n",
    "            'yaxis': {'type': 'linear' if axis_type == 'Linear' else 'log'},\n",
    "            'xaxis': {'showgrid': False}\n",
    "        }\n",
    "    }\n",
    "\n",
    "\n",
    "@app.callback(\n",
    "    dash.dependencies.Output('x-time-series', 'figure'),\n",
    "    [dash.dependencies.Input('crossfilter-indicator-scatter', 'hoverData'),\n",
    "     dash.dependencies.Input('crossfilter-xaxis-column', 'value'),\n",
    "     dash.dependencies.Input('crossfilter-xaxis-type', 'value')])\n",
    "def update_y_timeseries(hoverData, xaxis_column_name, axis_type):\n",
    "    country_name = hoverData['points'][0]['customdata']\n",
    "    dff = df[df['Country Name'] == country_name]\n",
    "    dff = dff[dff['Indicator Name'] == xaxis_column_name]\n",
    "    title = '<b>{}</b><br>{}'.format(country_name, xaxis_column_name)\n",
    "    return create_time_series(dff, axis_type, title)\n",
    "\n",
    "\n",
    "@app.callback(\n",
    "    dash.dependencies.Output('y-time-series', 'figure'),\n",
    "    [dash.dependencies.Input('crossfilter-indicator-scatter', 'hoverData'),\n",
    "     dash.dependencies.Input('crossfilter-yaxis-column', 'value'),\n",
    "     dash.dependencies.Input('crossfilter-yaxis-type', 'value')])\n",
    "def update_x_timeseries(hoverData, yaxis_column_name, axis_type):\n",
    "    dff = df[df['Country Name'] == hoverData['points'][0]['customdata']]\n",
    "    dff = dff[dff['Indicator Name'] == yaxis_column_name]\n",
    "    return create_time_series(dff, axis_type, yaxis_column_name)"
   ]
  },
  {
   "cell_type": "markdown",
   "id": "5c5d2d04-90ac-4076-b2d4-14bc2daf6c3d",
   "metadata": {},
   "source": [
    "#### Run the Webserver"
   ]
  },
  {
   "cell_type": "markdown",
   "id": "84abc483-e80a-49bb-bf80-2b4b07cc84c5",
   "metadata": {},
   "source": [
    "##### Notice that the Dash app will run in \"External Mode\". Ignore the provided URL."
   ]
  },
  {
   "cell_type": "code",
   "execution_count": 7,
   "id": "9300f240-976b-4e41-a88c-92dad5efa5f8",
   "metadata": {
    "tags": []
   },
   "outputs": [
    {
     "name": "stdout",
     "output_type": "stream",
     "text": [
      "Dash app running on http://127.0.0.1:8100/\n"
     ]
    }
   ],
   "source": [
    "app.run_server(mode='external', port = os.environ[\"CDSW_READONLY_PORT\"], dev_tools_ui=True, #debug=True,\n",
    "              dev_tools_hot_reload =True, threaded=True)"
   ]
  },
  {
   "cell_type": "markdown",
   "id": "ef706ac7-e09d-41b2-9044-62c80c9a6e18",
   "metadata": {},
   "source": [
    "##### You can expose HTTP services in the engine to browsers choosing the CDSW_READONLY_PORT\n",
    "##### The JupyterDash app will be available at http(s)://CDSW_ENGINE_ID.CDSW_DOMAIN\n",
    "##### The correct URL is provided below for your convenience"
   ]
  },
  {
   "cell_type": "markdown",
   "id": "60e159a9-5896-44b3-9be9-ecb772d7d48b",
   "metadata": {},
   "source": [
    "#### Click on the following URL and familiarize yourself with the Visualization"
   ]
  },
  {
   "cell_type": "code",
   "execution_count": 8,
   "id": "580590cb-69b1-4c49-97e3-29aeaed672e6",
   "metadata": {},
   "outputs": [
    {
     "name": "stdout",
     "output_type": "stream",
     "text": [
      "http://read-only-lak8qqdq0jyvhvd0.ml-4c5feac0-3ec.go01-dem.ylcu-atmi.cloudera.site\n"
     ]
    }
   ],
   "source": [
    "url=os.environ[\"CDSW_ENGINE_ID\"]+\".\"+os.environ[\"CDSW_DOMAIN\"]\n",
    "\n",
    "print(\"http://read-only-%s\"%url)"
   ]
  },
  {
   "cell_type": "markdown",
   "id": "ff9729a0-2bd0-4819-9c71-b14f83b3a5ae",
   "metadata": {},
   "source": [
    "#### Validating JupyterDash Interactivity"
   ]
  },
  {
   "cell_type": "markdown",
   "id": "2d05db01-6fb1-474e-9c15-4ea7bd4eaf29",
   "metadata": {},
   "source": [
    "##### Observe that the initial value for Andorra CO2 Emissions in 1962 is Null "
   ]
  },
  {
   "cell_type": "code",
   "execution_count": 39,
   "id": "cae95c0e-b76d-40bd-8479-80070f7a64ed",
   "metadata": {},
   "outputs": [
    {
     "data": {
      "text/html": [
       "<div>\n",
       "<style scoped>\n",
       "    .dataframe tbody tr th:only-of-type {\n",
       "        vertical-align: middle;\n",
       "    }\n",
       "\n",
       "    .dataframe tbody tr th {\n",
       "        vertical-align: top;\n",
       "    }\n",
       "\n",
       "    .dataframe thead th {\n",
       "        text-align: right;\n",
       "    }\n",
       "</style>\n",
       "<table border=\"1\" class=\"dataframe\">\n",
       "  <thead>\n",
       "    <tr style=\"text-align: right;\">\n",
       "      <th></th>\n",
       "      <th>Country Name</th>\n",
       "      <th>Indicator Name</th>\n",
       "      <th>Year</th>\n",
       "      <th>Value</th>\n",
       "    </tr>\n",
       "  </thead>\n",
       "  <tbody>\n",
       "    <tr>\n",
       "      <th>715</th>\n",
       "      <td>Andorra</td>\n",
       "      <td>CO2 emissions (metric tons per capita)</td>\n",
       "      <td>1962</td>\n",
       "      <td>NaN</td>\n",
       "    </tr>\n",
       "  </tbody>\n",
       "</table>\n",
       "</div>"
      ],
      "text/plain": [
       "    Country Name                          Indicator Name  Year  Value\n",
       "715      Andorra  CO2 emissions (metric tons per capita)  1962    NaN"
      ]
     },
     "execution_count": 39,
     "metadata": {},
     "output_type": "execute_result"
    }
   ],
   "source": [
    "df[(df[\"Country Name\"] == \"Andorra\") & (df[\"Indicator Name\"] == \"CO2 emissions (metric tons per capita)\") & (df[\"Year\"] == 1962)]"
   ]
  },
  {
   "cell_type": "markdown",
   "id": "ae8adb47-c107-4a1c-837c-7a120450d3ab",
   "metadata": {},
   "source": [
    "##### Update the value to 5.8"
   ]
  },
  {
   "cell_type": "code",
   "execution_count": 43,
   "id": "ae86f6f1-4720-4807-937e-1dc8dc00cd3b",
   "metadata": {},
   "outputs": [],
   "source": [
    "df.loc[[715], \"Value\"] = 5.8"
   ]
  },
  {
   "cell_type": "code",
   "execution_count": 44,
   "id": "1bef752b-6f0f-423e-8b7a-2d1807705d17",
   "metadata": {},
   "outputs": [
    {
     "data": {
      "text/html": [
       "<div>\n",
       "<style scoped>\n",
       "    .dataframe tbody tr th:only-of-type {\n",
       "        vertical-align: middle;\n",
       "    }\n",
       "\n",
       "    .dataframe tbody tr th {\n",
       "        vertical-align: top;\n",
       "    }\n",
       "\n",
       "    .dataframe thead th {\n",
       "        text-align: right;\n",
       "    }\n",
       "</style>\n",
       "<table border=\"1\" class=\"dataframe\">\n",
       "  <thead>\n",
       "    <tr style=\"text-align: right;\">\n",
       "      <th></th>\n",
       "      <th>Country Name</th>\n",
       "      <th>Indicator Name</th>\n",
       "      <th>Year</th>\n",
       "      <th>Value</th>\n",
       "    </tr>\n",
       "  </thead>\n",
       "  <tbody>\n",
       "    <tr>\n",
       "      <th>715</th>\n",
       "      <td>Andorra</td>\n",
       "      <td>CO2 emissions (metric tons per capita)</td>\n",
       "      <td>1962</td>\n",
       "      <td>5.8</td>\n",
       "    </tr>\n",
       "  </tbody>\n",
       "</table>\n",
       "</div>"
      ],
      "text/plain": [
       "    Country Name                          Indicator Name  Year  Value\n",
       "715      Andorra  CO2 emissions (metric tons per capita)  1962    5.8"
      ]
     },
     "execution_count": 44,
     "metadata": {},
     "output_type": "execute_result"
    }
   ],
   "source": [
    "df[(df[\"Country Name\"] == \"Andorra\") & (df[\"Indicator Name\"] == \"CO2 emissions (metric tons per capita)\") & (df[\"Year\"] == 1962)]"
   ]
  },
  {
   "cell_type": "markdown",
   "id": "321a9b58-03e4-4ea3-bb23-df2222a15ce8",
   "metadata": {},
   "source": [
    "##### Navigate back to the Dash Application and refresh the page. Validate that now Andorra has a value of 5.8. "
   ]
  },
  {
   "cell_type": "markdown",
   "id": "7affb640-18e6-41df-aa79-c2cb2bc1b85c",
   "metadata": {},
   "source": [
    "##### One simple way to do this is to select \"CO2 Emissions\" in both dropdowns, set the year to 1962 in the Year Range at the bottom, and Zoom into the diagram region where both X and Y are equal to 6"
   ]
  },
  {
   "cell_type": "markdown",
   "id": "7c48738b-d601-497d-8fce-77a089911481",
   "metadata": {},
   "source": [
    "![title](img/step1.png)"
   ]
  },
  {
   "cell_type": "markdown",
   "id": "8e530408-e626-40a3-a1c8-50cbfe66cc62",
   "metadata": {},
   "source": [
    "![title](img/step2.png)"
   ]
  },
  {
   "cell_type": "markdown",
   "id": "a6f8d404-9bb9-4f33-948e-54ffd5ea7491",
   "metadata": {},
   "source": [
    "![title](img/step3.png)"
   ]
  },
  {
   "cell_type": "markdown",
   "id": "2e2c09c5-0277-4d1b-a572-b4ca0fcd55e8",
   "metadata": {},
   "source": [
    "![title](img/step4.png)"
   ]
  },
  {
   "cell_type": "code",
   "execution_count": null,
   "id": "8e1d85a1-1328-4771-b44d-df23deb0c7a7",
   "metadata": {},
   "outputs": [],
   "source": []
  }
 ],
 "metadata": {
  "kernelspec": {
   "display_name": "Python 3 (ipykernel)",
   "language": "python",
   "name": "python3"
  },
  "language_info": {
   "codemirror_mode": {
    "name": "ipython",
    "version": 3
   },
   "file_extension": ".py",
   "mimetype": "text/x-python",
   "name": "python",
   "nbconvert_exporter": "python",
   "pygments_lexer": "ipython3",
   "version": "3.7.13"
  }
 },
 "nbformat": 4,
 "nbformat_minor": 5
}
