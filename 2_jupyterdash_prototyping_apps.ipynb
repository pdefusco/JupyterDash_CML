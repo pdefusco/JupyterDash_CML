{
 "cells": [
  {
   "cell_type": "markdown",
   "id": "78070fcc-5e56-42ed-b6e3-43d9246eb041",
   "metadata": {},
   "source": [
    "## Managing Analytical Applications Programmatically with APIv2"
   ]
  },
  {
   "cell_type": "markdown",
   "id": "e8cb0449-a31e-48a7-845b-85719e819083",
   "metadata": {},
   "source": [
    "##### Cloudera Machine Learning exposes a REST API that you can use to perform operations related to projects, jobs, and runs. You can use API commands to integrate CML with third-party workflow tools or to control CML from the command line."
   ]
  },
  {
   "cell_type": "markdown",
   "id": "04a471aa-8c4f-42fe-9abf-079517c6e58c",
   "metadata": {},
   "source": [
    "##### This notebook demonstrates how you can deploy the JupyterDash app as a Production Application via CML Analytic Applications. "
   ]
  },
  {
   "cell_type": "markdown",
   "id": "4b41f098-d363-4a53-8761-8af0ab06261a",
   "metadata": {},
   "source": [
    "##### Together with Notebook 1, you can easily prototype and iterate over different application versions and build CI/CD processes to manage them in a Production Setting"
   ]
  },
  {
   "cell_type": "code",
   "execution_count": 1,
   "id": "ca02c249-ca4f-4588-8b8d-0b1ee97a1dc7",
   "metadata": {},
   "outputs": [],
   "source": [
    "# The CMLAPI package is available by default and does not need to be pip-installed\n",
    "try:\n",
    "    import cmlapi\n",
    "except ModuleNotFoundError:\n",
    "    import os\n",
    "    cluster = os.getenv(\"CDSW_API_URL\")[:-1]+\"2\"\n",
    "    !pip3 install {cluster}/python.tar.gz\n",
    "    import cmlapi\n",
    "\n",
    "from cmlapi.utils import Cursor\n",
    "import string\n",
    "import random\n",
    "import json\n",
    "\n",
    "try:\n",
    "    client = cmlapi.default_client()\n",
    "except ValueError:\n",
    "    print(\"Could not create a client.\")"
   ]
  },
  {
   "cell_type": "markdown",
   "id": "504e9822-f94c-43c3-9ec0-2aba5c645972",
   "metadata": {},
   "source": [
    "##### Using CML APIv2 often requires the current Project ID and a Session ID, both which you can easily obtain as shown below."
   ]
  },
  {
   "cell_type": "code",
   "execution_count": 2,
   "id": "79d01dd0-850b-4e4c-9e81-4fe7d37cd56c",
   "metadata": {},
   "outputs": [
    {
     "name": "stdout",
     "output_type": "stream",
     "text": [
      "Project Name:  jupyterdash-in-cml\n",
      "Project ID:  rlyy-n655-drcv-i702\n"
     ]
    }
   ],
   "source": [
    "import os\n",
    "project_name = os.environ[\"CDSW_PROJECT\"]\n",
    "project_id = os.environ[\"CDSW_PROJECT_ID\"]\n",
    "print(\"Project Name: \", project_name)\n",
    "print(\"Project ID: \", project_id)"
   ]
  },
  {
   "cell_type": "code",
   "execution_count": 3,
   "id": "184440cc-d020-4d64-a738-9cee23b6dcf7",
   "metadata": {},
   "outputs": [
    {
     "data": {
      "text/plain": [
       "'ypjngt'"
      ]
     },
     "execution_count": 3,
     "metadata": {},
     "output_type": "execute_result"
    }
   ],
   "source": [
    "session_id = \"\".join([random.choice(string.ascii_lowercase) for _ in range(6)])\n",
    "session_id"
   ]
  },
  {
   "cell_type": "markdown",
   "id": "8f1abd43-fac7-4328-ba28-d0a42bd6aee9",
   "metadata": {},
   "source": [
    "##### The following example deployes script 1B_jupyterdash_workbench_editor.py as the base for a CML Analytic Application. Notice no code changes were made from when we ran the visualization in a CML Session."
   ]
  },
  {
   "cell_type": "markdown",
   "id": "42bbae8d-4e01-4239-8cd5-c4aadeaec014",
   "metadata": {},
   "source": [
    "## Create Application\n",
    "\n",
    "#### CreateApplicationRequest\n",
    "Argument | Type | Description | Notes\n",
    "------------ | ------------- | ------------- | -------------\n",
    "**project_id** | **str** | The project's identifier | \n",
    "**name** | **str** | Name of the new application. |  \n",
    "**subdomain** | **str** | The subdomain of the application. The application will be served at the URL http(s)://subdomain.<domain> | \n",
    "**description** | **str** | The description of the application. | [optional] \n",
    "**script** | **str** | The script to run for the new application. | \n",
    "**cpu** | **float** | CPU cores to allocate to application (default 1). | [optional] \n",
    "**memory** | **float** | Memory in GB to allocate to application (default 1). | [optional] \n",
    "**nvidia_gpu** | **int** | Number of Nvidia GPUs to allocate to this application (default 0). | [optional] \n",
    "**environment** | **dict(str, str)** | Default environment variables to include in application. | [optional] \n",
    "**kernel** | **str** | Kernel to run the job runs on. Possible values are python3, python2, r, or scala. | [optional] \n",
    "**bypass_authentication** | **bool** | Enable unauthenticated access to application | [optional] \n"
   ]
  },
  {
   "cell_type": "markdown",
   "id": "0f62adbf-120c-43cf-8ead-ce066c59a2a0",
   "metadata": {},
   "source": [
    "##### Creating an App with APIv2 requires selecting a CML Runtime ID (\"image_identifier\"). You can easily visualize these with the method below.\n",
    "##### Any one of the basic Python based CML Runtimes provided out of the box will suffice."
   ]
  },
  {
   "cell_type": "code",
   "execution_count": 4,
   "id": "ad08be2c-915e-4711-aa23-8398e3fc3730",
   "metadata": {},
   "outputs": [
    {
     "data": {
      "text/plain": [
       "{'next_page_token': 'eyJwYWdlU2l6ZSI6MTAsIm9mZnNldCI6MTAsInZlcnNpb24iOjEsInNlYXJjaEZpbHRlciI6e30sInNvcnQiOltdfQ==',\n",
       " 'runtimes': [{'description': 'Includes Apache Zeppelin (v0.10.1) as the '\n",
       "                              'default editor, along with all base librarires '\n",
       "                              'and interpreters.',\n",
       "               'edition': 'Community runtime with Apache Zeppling 0.10.1',\n",
       "               'editor': 'Zeppelin',\n",
       "               'full_version': '1.0.1',\n",
       "               'image_identifier': 'aakulov1/cml-zeppelin-runtime:1.0.1',\n",
       "               'kernel': 'Python 3.7'},\n",
       "              {'description': 'JupyterLab with PyCaret',\n",
       "               'edition': 'CML AutoML with PyCaret',\n",
       "               'editor': 'JupyterLab',\n",
       "               'full_version': '1.7',\n",
       "               'image_identifier': 'docker.io/cvandyke/automl_pycaret:1.7',\n",
       "               'kernel': 'Python 3.9'},\n",
       "              {'description': 'JupyterLab with PyCaret',\n",
       "               'edition': 'CML AutoML with PyCaret',\n",
       "               'editor': 'JupyterLab',\n",
       "               'full_version': '1.8',\n",
       "               'image_identifier': 'docker.io/cvandyke/automl_pycaret:1.8',\n",
       "               'kernel': 'Python 3.9'},\n",
       "              {'description': 'Workbench with Java 11',\n",
       "               'edition': '1',\n",
       "               'editor': 'Workbench',\n",
       "               'full_version': '1.1',\n",
       "               'image_identifier': 'docker.io/cvandyke/python3.7-java11:1.1',\n",
       "               'kernel': 'Python 3.7'},\n",
       "              {'description': 'Workbench with Java 11',\n",
       "               'edition': 'Java11',\n",
       "               'editor': 'Workbench',\n",
       "               'full_version': '1.2',\n",
       "               'image_identifier': 'docker.io/cvandyke/python3.7-java11:1.2',\n",
       "               'kernel': 'Python 3.7'},\n",
       "              {'description': 'Python runtime with CUDA libraries provided by '\n",
       "                              'Cloudera',\n",
       "               'edition': 'Nvidia GPU',\n",
       "               'editor': 'JupyterLab',\n",
       "               'full_version': '2021.12.1-b17',\n",
       "               'image_identifier': 'docker.repository.cloudera.com/cloudera/cdsw/ml-runtime-jupyterlab-python3.7-cuda:2021.12.1-b17',\n",
       "               'kernel': 'Python 3.7'},\n",
       "              {'description': 'Python runtime with CUDA libraries provided by '\n",
       "                              'Cloudera',\n",
       "               'edition': 'Nvidia GPU',\n",
       "               'editor': 'JupyterLab',\n",
       "               'full_version': '2022.04.1-b6',\n",
       "               'image_identifier': 'docker.repository.cloudera.com/cloudera/cdsw/ml-runtime-jupyterlab-python3.7-cuda:2022.04.1-b6',\n",
       "               'kernel': 'Python 3.7'},\n",
       "              {'description': 'RAPIDS runtime provided by Cloudera',\n",
       "               'edition': 'RAPIDS',\n",
       "               'editor': 'JupyterLab',\n",
       "               'full_version': '2021.12.1-b17',\n",
       "               'image_identifier': 'docker.repository.cloudera.com/cloudera/cdsw/ml-runtime-jupyterlab-python3.7-rapids:2021.12.1-b17',\n",
       "               'kernel': 'Python 3.7'},\n",
       "              {'description': 'Standard edition JupyterLab Python runtime '\n",
       "                              'provided by Cloudera',\n",
       "               'edition': 'Standard',\n",
       "               'editor': 'JupyterLab',\n",
       "               'full_version': '2021.12.1-b17',\n",
       "               'image_identifier': 'docker.repository.cloudera.com/cloudera/cdsw/ml-runtime-jupyterlab-python3.7-standard:2021.12.1-b17',\n",
       "               'kernel': 'Python 3.7'},\n",
       "              {'description': 'Standard edition JupyterLab Python runtime '\n",
       "                              'provided by Cloudera',\n",
       "               'edition': 'Standard',\n",
       "               'editor': 'JupyterLab',\n",
       "               'full_version': '2022.04.1-b6',\n",
       "               'image_identifier': 'docker.repository.cloudera.com/cloudera/cdsw/ml-runtime-jupyterlab-python3.7-standard:2022.04.1-b6',\n",
       "               'kernel': 'Python 3.7'}]}"
      ]
     },
     "execution_count": 4,
     "metadata": {},
     "output_type": "execute_result"
    }
   ],
   "source": [
    "client.list_runtimes()"
   ]
  },
  {
   "cell_type": "code",
   "execution_count": 5,
   "id": "b6df0f87-c444-4be2-be2a-e7c9329b38a2",
   "metadata": {},
   "outputs": [],
   "source": [
    "image_id = \"docker.repository.cloudera.com/cloudera/cdsw/ml-runtime-jupyterlab-python3.7-standard:2021.12.1-b17\""
   ]
  },
  {
   "cell_type": "code",
   "execution_count": 6,
   "id": "71632b20-1e5e-4b9c-8f71-24f0e1c44e9a",
   "metadata": {},
   "outputs": [],
   "source": [
    "#### Creating application also starts application implicitly.\n",
    "\n",
    "# This creates a simple application. If using runtimes, the runtime_identifier must be specified.\n",
    "application_request = cmlapi.CreateApplicationRequest(\n",
    "    name = \"demo_app_\"+session_id,\n",
    "    description = \"A sample application to demonstrate CML APIs\",\n",
    "    project_id = project_id,\n",
    "    subdomain = \"demo-\"+session_id,\n",
    "    runtime_identifier = image_id,\n",
    "    script = \"1B_jupyterdash_workbench_editor.py\",\n",
    ")\n",
    "app = client.create_application(\n",
    "    project_id = project_id,\n",
    "    body = application_request\n",
    ")"
   ]
  },
  {
   "cell_type": "markdown",
   "id": "70fe032c-4e8c-41da-94ef-e4366b14b51d",
   "metadata": {},
   "source": [
    "##### Navigate to the Applications tab and validate that the JupyterDash visualization has been deployed as a CML App"
   ]
  },
  {
   "cell_type": "markdown",
   "id": "154ad5fa-7820-46dc-84f4-1abab22f9238",
   "metadata": {},
   "source": [
    "![title](img/step7.png)"
   ]
  },
  {
   "cell_type": "markdown",
   "id": "7cc47899-ff0c-461a-907a-9fd28b9d9a2a",
   "metadata": {},
   "source": [
    "##### With the following methods you can monitor and update your App deployments. These provide a foundation for managing Production Apps in a CI/CD fashion."
   ]
  },
  {
   "cell_type": "markdown",
   "id": "824edd92-2058-4540-8668-b5a2b5151d81",
   "metadata": {},
   "source": [
    "## List/Get Applications\n",
    "\n",
    "Applications can be listed using the same mechanisms (sort, search_filter, page_size, etc.) as the other resources we've seen so far. Applications can be filtered on the following properties:\n",
    "- creator.email\n",
    "- creator.name\n",
    "- creator.username\n",
    "- description\n",
    "- full_name\n",
    "- name\n",
    "- script\n",
    "- subdomain\n",
    "- status\n",
    "- kernel\n",
    "- bypass_authentication\n",
    "- runtime_identifier\n",
    "\n",
    "Applications can also be sorted on the following properties:\n",
    "- created_at\n",
    "- creator.email\n",
    "- creator.name\n",
    "- creator.username\n",
    "- description\n",
    "- name\n",
    "- kernel\n",
    "- script\n",
    "- updated_at\n",
    "- status\n",
    "- runtime_identifier"
   ]
  },
  {
   "cell_type": "code",
   "execution_count": 28,
   "id": "d1f2ad3c-9023-464c-82cc-d14aa7bd89d8",
   "metadata": {},
   "outputs": [
    {
     "data": {
      "text/plain": [
       "{'applications': [{'bypass_authentication': False,\n",
       "                   'cpu': 1.0,\n",
       "                   'created_at': datetime.datetime(2022, 10, 18, 22, 33, 51, 332577, tzinfo=tzlocal()),\n",
       "                   'creator': {'email': 'pauldefusco@cloudera.com',\n",
       "                               'name': 'Paul de Fusco',\n",
       "                               'username': 'pauldefusco'},\n",
       "                   'description': 'A sample application to demonstrate CML '\n",
       "                                  'APIs',\n",
       "                   'environment': '{}',\n",
       "                   'id': 'mbae-ps4j-3kjz-ese9',\n",
       "                   'kernel': '',\n",
       "                   'memory': 1.0,\n",
       "                   'name': 'demo_app_zjaszu',\n",
       "                   'nvidia_gpu': 0,\n",
       "                   'running_at': datetime.datetime(2022, 10, 18, 22, 34, 1, 837000, tzinfo=tzlocal()),\n",
       "                   'runtime_addon_identifiers': ['hadoop-cli-7.2.11-hf4'],\n",
       "                   'runtime_identifier': 'docker.repository.cloudera.com/cloudera/cdsw/ml-runtime-jupyterlab-python3.7-standard:2021.12.1-b17',\n",
       "                   'script': '1B_jupyterdash_workbench_editor.py',\n",
       "                   'starting_at': datetime.datetime(2022, 10, 18, 22, 34, 1, 837000, tzinfo=tzlocal()),\n",
       "                   'status': 'APPLICATION_RUNNING',\n",
       "                   'stopped_at': None,\n",
       "                   'subdomain': 'demo-zjaszu',\n",
       "                   'updated_at': datetime.datetime(2022, 10, 18, 22, 34, 10, 115694, tzinfo=tzlocal())}],\n",
       " 'next_page_token': ''}"
      ]
     },
     "execution_count": 28,
     "metadata": {},
     "output_type": "execute_result"
    }
   ],
   "source": [
    "# You can list applications similarly to other resources.\n",
    "client.list_applications(project_id = project_id)"
   ]
  },
  {
   "cell_type": "markdown",
   "id": "6746fbd0-232e-4383-b199-a19a9851fae4",
   "metadata": {},
   "source": [
    "#### In the below example we redeploy the same App with a different script (\"1C_jupyterdash_workbench_editor.py\") and a higher CPU and Memory profile."
   ]
  },
  {
   "cell_type": "markdown",
   "id": "c0867252-38c1-4740-a497-05fe579e33ec",
   "metadata": {},
   "source": [
    "## Update Application\n",
    "\n",
    "When updating an application, you can modify the following fields:\n",
    "- name\n",
    "- subdomain\n",
    "- description\n",
    "- script\n",
    "- bypass_authentication\n",
    "- kernel\n",
    "- cpu\n",
    "- memory\n",
    "- nvidia_gpu\n",
    "- environment\n",
    "\n",
    "Modifying these fields can be done similarly to how we updated projects and jobs earlier.\n"
   ]
  },
  {
   "cell_type": "code",
   "execution_count": 30,
   "id": "69f30e3f-44c8-436d-828a-e5409b857023",
   "metadata": {},
   "outputs": [
    {
     "data": {
      "text/plain": [
       "{'bypass_authentication': False,\n",
       " 'cpu': 1.0,\n",
       " 'created_at': datetime.datetime(2022, 10, 18, 22, 33, 51, 332577, tzinfo=tzlocal()),\n",
       " 'creator': {'email': 'pauldefusco@cloudera.com',\n",
       "             'name': 'Paul de Fusco',\n",
       "             'username': 'pauldefusco'},\n",
       " 'description': 'updated_A sample application to demonstrate CML APIs',\n",
       " 'environment': '{\"UPDATED_ENV\":\"UPDATED_ENV_VALUE\"}',\n",
       " 'id': 'mbae-ps4j-3kjz-ese9',\n",
       " 'kernel': '',\n",
       " 'memory': 2.0,\n",
       " 'name': 'updated_demo_app_zjaszu',\n",
       " 'nvidia_gpu': 0,\n",
       " 'running_at': datetime.datetime(2022, 10, 18, 22, 49, 28, 710000, tzinfo=tzlocal()),\n",
       " 'runtime_addon_identifiers': ['hadoop-cli-7.2.11-hf4'],\n",
       " 'runtime_identifier': 'docker.repository.cloudera.com/cloudera/cdsw/ml-runtime-jupyterlab-python3.7-standard:2021.12.1-b17',\n",
       " 'script': '1C_jupyterdash_workbench_editor.py',\n",
       " 'starting_at': datetime.datetime(2022, 10, 18, 22, 49, 28, 710000, tzinfo=tzlocal()),\n",
       " 'status': 'APPLICATION_STOPPING',\n",
       " 'stopped_at': None,\n",
       " 'subdomain': 'updated-demo-zjaszu',\n",
       " 'updated_at': datetime.datetime(2022, 10, 18, 22, 53, 9, 843591, tzinfo=tzlocal())}"
      ]
     },
     "execution_count": 30,
     "metadata": {},
     "output_type": "execute_result"
    }
   ],
   "source": [
    "update_application_req = cmlapi.Application(\n",
    "    name = \"updated_\" + app.name,\n",
    "    subdomain = \"updated-\" + app.subdomain,\n",
    "    description = \"updated_\" + app.description,\n",
    "    environment = json.dumps({\"UPDATED_ENV\": \"UPDATED_ENV_VALUE\"}),\n",
    "    script = \"1C_jupyterdash_workbench_editor.py\",\n",
    "    cpu = 1,\n",
    "    memory = 2\n",
    ")\n",
    "updated_application = client.update_application(\n",
    "    update_application_req,\n",
    "    project_id = project_id,\n",
    "    application_id = app.id\n",
    ")\n",
    "updated_application"
   ]
  },
  {
   "cell_type": "markdown",
   "id": "41336381-c9c0-42be-b1fc-53f9951c0185",
   "metadata": {},
   "source": [
    "##### Navigate back to the Applications tab and validate that the Application Deployment settings have changed"
   ]
  },
  {
   "cell_type": "markdown",
   "id": "cf2a4e25-7ed1-4e75-b408-8ce3c08c6cb1",
   "metadata": {},
   "source": [
    "![title](img/step8.png)"
   ]
  },
  {
   "cell_type": "markdown",
   "id": "ba02978b-6f22-407f-b3d0-9e7736afb578",
   "metadata": {},
   "source": [
    "![title](img/step9.png)"
   ]
  },
  {
   "cell_type": "code",
   "execution_count": null,
   "id": "01fc3de3-71e5-4397-aa4f-f72f726073b6",
   "metadata": {},
   "outputs": [],
   "source": []
  }
 ],
 "metadata": {
  "kernelspec": {
   "display_name": "Python 3",
   "language": "python",
   "name": "python3"
  },
  "language_info": {
   "codemirror_mode": {
    "name": "ipython",
    "version": 3
   },
   "file_extension": ".py",
   "mimetype": "text/x-python",
   "name": "python",
   "nbconvert_exporter": "python",
   "pygments_lexer": "ipython3",
   "version": "3.7.12"
  }
 },
 "nbformat": 4,
 "nbformat_minor": 5
}
